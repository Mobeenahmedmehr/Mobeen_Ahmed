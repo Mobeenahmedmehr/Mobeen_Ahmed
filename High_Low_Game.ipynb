{
  "nbformat": 4,
  "nbformat_minor": 0,
  "metadata": {
    "colab": {
      "provenance": [],
      "gpuType": "T4",
      "authorship_tag": "ABX9TyPvco9NFtRDrLT/u3C4FPlk",
      "include_colab_link": true
    },
    "kernelspec": {
      "name": "python3",
      "display_name": "Python 3"
    },
    "language_info": {
      "name": "python"
    },
    "accelerator": "GPU"
  },
  "cells": [
    {
      "cell_type": "markdown",
      "metadata": {
        "id": "view-in-github",
        "colab_type": "text"
      },
      "source": [
        "<a href=\"https://colab.research.google.com/github/Mobeenahmedmehr/Mobeen_Ahmed/blob/main/High_Low_Game.ipynb\" target=\"_parent\"><img src=\"https://colab.research.google.com/assets/colab-badge.svg\" alt=\"Open In Colab\"/></a>"
      ]
    },
    {
      "cell_type": "code",
      "source": [
        "print(\"welcome to high_low game\")\n",
        "print(input(\"What is your name:\"))\n",
        "print(\"Lets play\")"
      ],
      "metadata": {
        "id": "6skGxl7koqPL",
        "colab": {
          "base_uri": "https://localhost:8080/"
        },
        "outputId": "1c46e98b-b971-45a4-ffd1-aff348bf1ea0"
      },
      "execution_count": 6,
      "outputs": [
        {
          "output_type": "stream",
          "name": "stdout",
          "text": [
            "welcome to high_low game\n",
            "What is your name:ali\n",
            "ali\n",
            "Lets play\n"
          ]
        }
      ]
    },
    {
      "cell_type": "code",
      "source": [
        "import random\n",
        "score = 0\n",
        "total_rounds = 3\n",
        "for round_number in range(1, total_rounds + 1):\n",
        "  print(f\"Round {round_number}\")\n",
        "  user_num = random.randint(1,100)\n",
        "  computer_num = random.randint(1,100)\n",
        "  print(\"user_num\",user_num)\n",
        "  user_guess = input(\"Guess your number is higher or lower then the computers number:\").lower()\n",
        "  if user_guess == \"higher\":\n",
        "     if user_num > computer_num:\n",
        "       print(\"you are correct! The computer number was\",computer_num)\n",
        "       score +=1\n",
        "     else:\n",
        "       print(\"you are wrong!The computer number was\",computer_num)\n",
        "  elif user_guess == \"lower\":\n",
        "     if user_num < computer_num:\n",
        "       print(\"you are correct! The computer number was\",computer_num)\n",
        "       score +=1\n",
        "     else:\n",
        "       print(\"you are wrong!The computer number was\",computer_num)\n",
        "  else:\n",
        "     print(\"Invalid input! Plz type higher or lower\")\n",
        "     break\n",
        "round_number += 1\n",
        "print(\"The game is over!\")\n",
        "print(\"your final score is:\",score)"
      ],
      "metadata": {
        "colab": {
          "base_uri": "https://localhost:8080/"
        },
        "id": "Df17FzJpGYHr",
        "outputId": "3ecc00a9-e016-4bf3-c545-d5f530fcd6c1"
      },
      "execution_count": 38,
      "outputs": [
        {
          "output_type": "stream",
          "name": "stdout",
          "text": [
            "Round 1\n",
            "user_num 2\n",
            "Guess your number is higher or lower then the computers number:lower\n",
            "you are correct! The computer number was 14\n",
            "Round 2\n",
            "user_num 77\n",
            "Guess your number is higher or lower then the computers number:higher\n",
            "you are wrong!The computer number was 78\n",
            "Round 3\n",
            "user_num 24\n",
            "Guess your number is higher or lower then the computers number:lower\n",
            "you are correct! The computer number was 66\n",
            "The game is over!\n",
            "your final score is: 2\n"
          ]
        }
      ]
    },
    {
      "cell_type": "code",
      "source": [],
      "metadata": {
        "id": "bzz9YGifbQPL"
      },
      "execution_count": null,
      "outputs": []
    }
  ]
}