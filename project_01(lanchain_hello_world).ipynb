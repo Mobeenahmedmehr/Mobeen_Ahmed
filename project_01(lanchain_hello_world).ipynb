{
  "nbformat": 4,
  "nbformat_minor": 0,
  "metadata": {
    "colab": {
      "provenance": [],
      "authorship_tag": "ABX9TyNxSu36ad03sUwilF3vdSZ6",
      "include_colab_link": true
    },
    "kernelspec": {
      "name": "python3",
      "display_name": "Python 3"
    },
    "language_info": {
      "name": "python"
    }
  },
  "cells": [
    {
      "cell_type": "markdown",
      "metadata": {
        "id": "view-in-github",
        "colab_type": "text"
      },
      "source": [
        "<a href=\"https://colab.research.google.com/github/Mobeenahmedmehr/Mobeen_Ahmed/blob/main/project_01(lanchain_hello_world).ipynb\" target=\"_parent\"><img src=\"https://colab.research.google.com/assets/colab-badge.svg\" alt=\"Open In Colab\"/></a>"
      ]
    },
    {
      "cell_type": "markdown",
      "source": [
        "# **Import API Key**"
      ],
      "metadata": {
        "id": "upSOnCckyFvN"
      }
    },
    {
      "cell_type": "code",
      "source": [
        "from google.colab import userdata\n",
        "GOOGLE_API_KEY=userdata.get('Gemini_API_KEY')"
      ],
      "metadata": {
        "id": "Blv-Wl6Nw-Ld"
      },
      "execution_count": 12,
      "outputs": []
    },
    {
      "cell_type": "markdown",
      "source": [
        "# **Install Langchain**"
      ],
      "metadata": {
        "id": "ASSdI7IhyNjs"
      }
    },
    {
      "cell_type": "code",
      "execution_count": 13,
      "metadata": {
        "id": "lVBtzUq7v6Uy"
      },
      "outputs": [],
      "source": [
        "!pip install -qU langchain-google-genai"
      ]
    },
    {
      "cell_type": "markdown",
      "source": [
        "# **Configuring a LLM_Model**"
      ],
      "metadata": {
        "id": "Y9QL1i6FyYud"
      }
    },
    {
      "cell_type": "code",
      "source": [
        "from langchain_google_genai import ChatGoogleGenerativeAI\n",
        "llm = ChatGoogleGenerativeAI(\n",
        "    api_key=GOOGLE_API_KEY,\n",
        "    model=\"gemini-2.0-flash-exp\")"
      ],
      "metadata": {
        "id": "9P7h4rODv936"
      },
      "execution_count": 14,
      "outputs": []
    },
    {
      "cell_type": "markdown",
      "source": [
        "# **Getting Response**"
      ],
      "metadata": {
        "id": "DEGzwSHKyoMO"
      }
    },
    {
      "cell_type": "code",
      "source": [
        "response = llm.invoke(\"Hello, world!\")"
      ],
      "metadata": {
        "id": "xO47i_s6wdci"
      },
      "execution_count": 15,
      "outputs": []
    },
    {
      "cell_type": "code",
      "source": [
        "print(response.content)"
      ],
      "metadata": {
        "colab": {
          "base_uri": "https://localhost:8080/"
        },
        "id": "wylmtIdLwlvN",
        "outputId": "694c1def-f39c-4450-d7c2-0ff293fb43fa"
      },
      "execution_count": 16,
      "outputs": [
        {
          "output_type": "stream",
          "name": "stdout",
          "text": [
            "Hello there! It's great to hear from you. How can I help you today?\n",
            "\n"
          ]
        }
      ]
    }
  ]
}