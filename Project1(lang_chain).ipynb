{
  "nbformat": 4,
  "nbformat_minor": 0,
  "metadata": {
    "colab": {
      "provenance": [],
      "gpuType": "T4",
      "authorship_tag": "ABX9TyMXIVIT4R8Asz0IUyDuwzjP",
      "include_colab_link": true
    },
    "kernelspec": {
      "name": "python3",
      "display_name": "Python 3"
    },
    "language_info": {
      "name": "python"
    }
  },
  "cells": [
    {
      "cell_type": "markdown",
      "metadata": {
        "id": "view-in-github",
        "colab_type": "text"
      },
      "source": [
        "<a href=\"https://colab.research.google.com/github/Mobeenahmedmehr/Mobeen_Ahmed/blob/main/Project1(lang_chain).ipynb\" target=\"_parent\"><img src=\"https://colab.research.google.com/assets/colab-badge.svg\" alt=\"Open In Colab\"/></a>"
      ]
    },
    {
      "cell_type": "code",
      "source": [
        "from google.colab import userdata\n",
        "GOOGLE_API_KEY=userdata.get('Gemini_API_KEY')"
      ],
      "metadata": {
        "id": "H4IOydK0Fl-z"
      },
      "execution_count": 31,
      "outputs": []
    },
    {
      "cell_type": "code",
      "source": [
        "!pip install langchain_google_genai"
      ],
      "metadata": {
        "colab": {
          "base_uri": "https://localhost:8080/"
        },
        "id": "Ije4ZYJt9axq",
        "outputId": "56276e04-8e01-4706-81a5-f6deb5e29061",
        "collapsed": true
      },
      "execution_count": 32,
      "outputs": [
        {
          "output_type": "stream",
          "name": "stdout",
          "text": [
            "Requirement already satisfied: langchain_google_genai in /usr/local/lib/python3.10/dist-packages (2.0.7)\n",
            "Requirement already satisfied: filetype<2.0.0,>=1.2.0 in /usr/local/lib/python3.10/dist-packages (from langchain_google_genai) (1.2.0)\n",
            "Requirement already satisfied: google-generativeai<0.9.0,>=0.8.0 in /usr/local/lib/python3.10/dist-packages (from langchain_google_genai) (0.8.3)\n",
            "Requirement already satisfied: langchain-core<0.4,>=0.3.15 in /usr/local/lib/python3.10/dist-packages (from langchain_google_genai) (0.3.25)\n",
            "Requirement already satisfied: pydantic<3,>=2 in /usr/local/lib/python3.10/dist-packages (from langchain_google_genai) (2.10.3)\n",
            "Requirement already satisfied: google-ai-generativelanguage==0.6.10 in /usr/local/lib/python3.10/dist-packages (from google-generativeai<0.9.0,>=0.8.0->langchain_google_genai) (0.6.10)\n",
            "Requirement already satisfied: google-api-core in /usr/local/lib/python3.10/dist-packages (from google-generativeai<0.9.0,>=0.8.0->langchain_google_genai) (2.19.2)\n",
            "Requirement already satisfied: google-api-python-client in /usr/local/lib/python3.10/dist-packages (from google-generativeai<0.9.0,>=0.8.0->langchain_google_genai) (2.155.0)\n",
            "Requirement already satisfied: google-auth>=2.15.0 in /usr/local/lib/python3.10/dist-packages (from google-generativeai<0.9.0,>=0.8.0->langchain_google_genai) (2.27.0)\n",
            "Requirement already satisfied: protobuf in /usr/local/lib/python3.10/dist-packages (from google-generativeai<0.9.0,>=0.8.0->langchain_google_genai) (4.25.5)\n",
            "Requirement already satisfied: tqdm in /usr/local/lib/python3.10/dist-packages (from google-generativeai<0.9.0,>=0.8.0->langchain_google_genai) (4.67.1)\n",
            "Requirement already satisfied: typing-extensions in /usr/local/lib/python3.10/dist-packages (from google-generativeai<0.9.0,>=0.8.0->langchain_google_genai) (4.12.2)\n",
            "Requirement already satisfied: proto-plus<2.0.0dev,>=1.22.3 in /usr/local/lib/python3.10/dist-packages (from google-ai-generativelanguage==0.6.10->google-generativeai<0.9.0,>=0.8.0->langchain_google_genai) (1.25.0)\n",
            "Requirement already satisfied: PyYAML>=5.3 in /usr/local/lib/python3.10/dist-packages (from langchain-core<0.4,>=0.3.15->langchain_google_genai) (6.0.2)\n",
            "Requirement already satisfied: jsonpatch<2.0,>=1.33 in /usr/local/lib/python3.10/dist-packages (from langchain-core<0.4,>=0.3.15->langchain_google_genai) (1.33)\n",
            "Requirement already satisfied: langsmith<0.3,>=0.1.125 in /usr/local/lib/python3.10/dist-packages (from langchain-core<0.4,>=0.3.15->langchain_google_genai) (0.2.3)\n",
            "Requirement already satisfied: packaging<25,>=23.2 in /usr/local/lib/python3.10/dist-packages (from langchain-core<0.4,>=0.3.15->langchain_google_genai) (24.2)\n",
            "Requirement already satisfied: tenacity!=8.4.0,<10.0.0,>=8.1.0 in /usr/local/lib/python3.10/dist-packages (from langchain-core<0.4,>=0.3.15->langchain_google_genai) (9.0.0)\n",
            "Requirement already satisfied: annotated-types>=0.6.0 in /usr/local/lib/python3.10/dist-packages (from pydantic<3,>=2->langchain_google_genai) (0.7.0)\n",
            "Requirement already satisfied: pydantic-core==2.27.1 in /usr/local/lib/python3.10/dist-packages (from pydantic<3,>=2->langchain_google_genai) (2.27.1)\n",
            "Requirement already satisfied: googleapis-common-protos<2.0.dev0,>=1.56.2 in /usr/local/lib/python3.10/dist-packages (from google-api-core->google-generativeai<0.9.0,>=0.8.0->langchain_google_genai) (1.66.0)\n",
            "Requirement already satisfied: requests<3.0.0.dev0,>=2.18.0 in /usr/local/lib/python3.10/dist-packages (from google-api-core->google-generativeai<0.9.0,>=0.8.0->langchain_google_genai) (2.32.3)\n",
            "Requirement already satisfied: cachetools<6.0,>=2.0.0 in /usr/local/lib/python3.10/dist-packages (from google-auth>=2.15.0->google-generativeai<0.9.0,>=0.8.0->langchain_google_genai) (5.5.0)\n",
            "Requirement already satisfied: pyasn1-modules>=0.2.1 in /usr/local/lib/python3.10/dist-packages (from google-auth>=2.15.0->google-generativeai<0.9.0,>=0.8.0->langchain_google_genai) (0.4.1)\n",
            "Requirement already satisfied: rsa<5,>=3.1.4 in /usr/local/lib/python3.10/dist-packages (from google-auth>=2.15.0->google-generativeai<0.9.0,>=0.8.0->langchain_google_genai) (4.9)\n",
            "Requirement already satisfied: jsonpointer>=1.9 in /usr/local/lib/python3.10/dist-packages (from jsonpatch<2.0,>=1.33->langchain-core<0.4,>=0.3.15->langchain_google_genai) (3.0.0)\n",
            "Requirement already satisfied: httpx<1,>=0.23.0 in /usr/local/lib/python3.10/dist-packages (from langsmith<0.3,>=0.1.125->langchain-core<0.4,>=0.3.15->langchain_google_genai) (0.28.1)\n",
            "Requirement already satisfied: orjson<4.0.0,>=3.9.14 in /usr/local/lib/python3.10/dist-packages (from langsmith<0.3,>=0.1.125->langchain-core<0.4,>=0.3.15->langchain_google_genai) (3.10.12)\n",
            "Requirement already satisfied: requests-toolbelt<2.0.0,>=1.0.0 in /usr/local/lib/python3.10/dist-packages (from langsmith<0.3,>=0.1.125->langchain-core<0.4,>=0.3.15->langchain_google_genai) (1.0.0)\n",
            "Requirement already satisfied: httplib2<1.dev0,>=0.19.0 in /usr/local/lib/python3.10/dist-packages (from google-api-python-client->google-generativeai<0.9.0,>=0.8.0->langchain_google_genai) (0.22.0)\n",
            "Requirement already satisfied: google-auth-httplib2<1.0.0,>=0.2.0 in /usr/local/lib/python3.10/dist-packages (from google-api-python-client->google-generativeai<0.9.0,>=0.8.0->langchain_google_genai) (0.2.0)\n",
            "Requirement already satisfied: uritemplate<5,>=3.0.1 in /usr/local/lib/python3.10/dist-packages (from google-api-python-client->google-generativeai<0.9.0,>=0.8.0->langchain_google_genai) (4.1.1)\n",
            "Requirement already satisfied: grpcio<2.0dev,>=1.33.2 in /usr/local/lib/python3.10/dist-packages (from google-api-core[grpc]!=2.0.*,!=2.1.*,!=2.10.*,!=2.2.*,!=2.3.*,!=2.4.*,!=2.5.*,!=2.6.*,!=2.7.*,!=2.8.*,!=2.9.*,<3.0.0dev,>=1.34.1->google-ai-generativelanguage==0.6.10->google-generativeai<0.9.0,>=0.8.0->langchain_google_genai) (1.68.1)\n",
            "Requirement already satisfied: grpcio-status<2.0.dev0,>=1.33.2 in /usr/local/lib/python3.10/dist-packages (from google-api-core[grpc]!=2.0.*,!=2.1.*,!=2.10.*,!=2.2.*,!=2.3.*,!=2.4.*,!=2.5.*,!=2.6.*,!=2.7.*,!=2.8.*,!=2.9.*,<3.0.0dev,>=1.34.1->google-ai-generativelanguage==0.6.10->google-generativeai<0.9.0,>=0.8.0->langchain_google_genai) (1.62.3)\n",
            "Requirement already satisfied: pyparsing!=3.0.0,!=3.0.1,!=3.0.2,!=3.0.3,<4,>=2.4.2 in /usr/local/lib/python3.10/dist-packages (from httplib2<1.dev0,>=0.19.0->google-api-python-client->google-generativeai<0.9.0,>=0.8.0->langchain_google_genai) (3.2.0)\n",
            "Requirement already satisfied: anyio in /usr/local/lib/python3.10/dist-packages (from httpx<1,>=0.23.0->langsmith<0.3,>=0.1.125->langchain-core<0.4,>=0.3.15->langchain_google_genai) (3.7.1)\n",
            "Requirement already satisfied: certifi in /usr/local/lib/python3.10/dist-packages (from httpx<1,>=0.23.0->langsmith<0.3,>=0.1.125->langchain-core<0.4,>=0.3.15->langchain_google_genai) (2024.12.14)\n",
            "Requirement already satisfied: httpcore==1.* in /usr/local/lib/python3.10/dist-packages (from httpx<1,>=0.23.0->langsmith<0.3,>=0.1.125->langchain-core<0.4,>=0.3.15->langchain_google_genai) (1.0.7)\n",
            "Requirement already satisfied: idna in /usr/local/lib/python3.10/dist-packages (from httpx<1,>=0.23.0->langsmith<0.3,>=0.1.125->langchain-core<0.4,>=0.3.15->langchain_google_genai) (3.10)\n",
            "Requirement already satisfied: h11<0.15,>=0.13 in /usr/local/lib/python3.10/dist-packages (from httpcore==1.*->httpx<1,>=0.23.0->langsmith<0.3,>=0.1.125->langchain-core<0.4,>=0.3.15->langchain_google_genai) (0.14.0)\n",
            "Requirement already satisfied: pyasn1<0.7.0,>=0.4.6 in /usr/local/lib/python3.10/dist-packages (from pyasn1-modules>=0.2.1->google-auth>=2.15.0->google-generativeai<0.9.0,>=0.8.0->langchain_google_genai) (0.6.1)\n",
            "Requirement already satisfied: charset-normalizer<4,>=2 in /usr/local/lib/python3.10/dist-packages (from requests<3.0.0.dev0,>=2.18.0->google-api-core->google-generativeai<0.9.0,>=0.8.0->langchain_google_genai) (3.4.0)\n",
            "Requirement already satisfied: urllib3<3,>=1.21.1 in /usr/local/lib/python3.10/dist-packages (from requests<3.0.0.dev0,>=2.18.0->google-api-core->google-generativeai<0.9.0,>=0.8.0->langchain_google_genai) (2.2.3)\n",
            "Requirement already satisfied: sniffio>=1.1 in /usr/local/lib/python3.10/dist-packages (from anyio->httpx<1,>=0.23.0->langsmith<0.3,>=0.1.125->langchain-core<0.4,>=0.3.15->langchain_google_genai) (1.3.1)\n",
            "Requirement already satisfied: exceptiongroup in /usr/local/lib/python3.10/dist-packages (from anyio->httpx<1,>=0.23.0->langsmith<0.3,>=0.1.125->langchain-core<0.4,>=0.3.15->langchain_google_genai) (1.2.2)\n"
          ]
        }
      ]
    },
    {
      "cell_type": "markdown",
      "source": [
        "# **Experiment No : 01**\n"
      ],
      "metadata": {
        "id": "sBhzwcsZo8ms"
      }
    },
    {
      "cell_type": "markdown",
      "source": [
        "# **Configuring the Gemini Flash model.**"
      ],
      "metadata": {
        "id": "LCd0xKGGhLMG"
      }
    },
    {
      "cell_type": "code",
      "source": [
        "from langchain_google_genai import GoogleGenerativeAI"
      ],
      "metadata": {
        "id": "DayXm1CZwJzx"
      },
      "execution_count": 33,
      "outputs": []
    },
    {
      "cell_type": "code",
      "source": [
        "llm = GoogleGenerativeAI(\n",
        "    api_key=GOOGLE_API_KEY,\n",
        "    model=\"gemini-2.0-flash-exp\",\n",
        "    temperature=0.7)"
      ],
      "metadata": {
        "id": "ee9nsn6c3FQW"
      },
      "execution_count": 85,
      "outputs": []
    },
    {
      "cell_type": "markdown",
      "source": [
        "# **Create a prompt template**"
      ],
      "metadata": {
        "id": "xyjkv-06e2-a"
      }
    },
    {
      "cell_type": "code",
      "source": [
        "from langchain.prompts import PromptTemplate\n",
        "prompt_template = PromptTemplate(\n",
        "    input_variables=[\"question\"],\n",
        "    template=\"You are a helpful assistant. Answer the following question:{question}\"\n",
        ")"
      ],
      "metadata": {
        "id": "dUWuQcrOcdCK"
      },
      "execution_count": 86,
      "outputs": []
    },
    {
      "cell_type": "markdown",
      "source": [
        "# **CREATING LLMChain**"
      ],
      "metadata": {
        "id": "xad6LVQGe9MB"
      }
    },
    {
      "cell_type": "code",
      "source": [
        "Chain = prompt_template | llm"
      ],
      "metadata": {
        "id": "8vo7tFnqd15H"
      },
      "execution_count": 87,
      "outputs": []
    },
    {
      "cell_type": "markdown",
      "source": [
        "# **Questions**"
      ],
      "metadata": {
        "id": "d8iGJZgpodgA"
      }
    },
    {
      "cell_type": "code",
      "source": [
        "questions = [\n",
        "    \"what is the API?\",\n",
        "    \"what is Python?\",\n",
        "    \"What is the capital of Paris?\"\n",
        "]"
      ],
      "metadata": {
        "id": "FIA33Rx9fNis"
      },
      "execution_count": 91,
      "outputs": []
    },
    {
      "cell_type": "markdown",
      "source": [
        "# **Getting Responses**"
      ],
      "metadata": {
        "id": "xcpyFth6pmt1"
      }
    },
    {
      "cell_type": "code",
      "source": [
        "responses = []\n",
        "for question in questions:\n",
        "    response = Chain.invoke({\"question\": question})\n",
        "    responses.append(response)"
      ],
      "metadata": {
        "id": "pSKx_4BFSl1m"
      },
      "execution_count": 92,
      "outputs": []
    },
    {
      "cell_type": "code",
      "source": [
        "for i, response in enumerate(responses):\n",
        "    print(f\"Question {i+1}: {questions[i]}\\nResponse: {response}\\n\")"
      ],
      "metadata": {
        "colab": {
          "base_uri": "https://localhost:8080/"
        },
        "id": "D-CMmbwDQmbp",
        "outputId": "977bbb67-8ed7-453d-835e-3b9a67089ea8"
      },
      "execution_count": 93,
      "outputs": [
        {
          "output_type": "stream",
          "name": "stdout",
          "text": [
            "Question 1: what is the API?\n",
            "Response: Okay, let's break down what an API is.\n",
            "\n",
            "**API stands for Application Programming Interface.**\n",
            "\n",
            "Think of it as a *messenger* or a *translator* that allows different software applications to communicate and interact with each other. It's a set of rules and specifications that define how these interactions should happen.\n",
            "\n",
            "Here's a more detailed explanation:\n",
            "\n",
            "**Key Concepts of an API:**\n",
            "\n",
            "* **Interface:** The \"interface\" part means it's a defined point of contact. It's how one piece of software exposes its capabilities to other software.\n",
            "* **Application:** This refers to a software program or service. APIs are used between applications.\n",
            "* **Programming:** It's about how software is built and how it interacts using code.\n",
            "* **Set of Rules:** APIs define the specific ways that applications can ask for information or perform actions. This includes:\n",
            "    *   **Requests:** How to ask for something (e.g., \"get me the weather for London\").\n",
            "    *   **Responses:** What format to expect the answer in (e.g., a JSON file containing temperature, humidity, etc.).\n",
            "    *   **Data Formats:** The structure of the data being exchanged (e.g., using JSON, XML, etc.).\n",
            "    *   **Protocols:** The communication methods used (e.g., HTTP, HTTPS).\n",
            "\n",
            "**Analogy: The Restaurant Menu**\n",
            "\n",
            "Imagine you're at a restaurant:\n",
            "\n",
            "*   **You (the Application):** You're the person who wants to order food.\n",
            "*   **The Menu (the API):** It's a defined list of options, their descriptions, and prices. You can't just walk into the kitchen and start grabbing food.\n",
            "*   **The Waiter (the API in Action):** You use the menu to choose what you want, and the waiter takes your order to the kitchen and brings back the food.\n",
            "*   **The Kitchen (the Application):** They prepare the food based on your order.\n",
            "\n",
            "The menu is the *interface* that allows you to interact with the kitchen and get what you want without needing to know the details of how the food is prepared.\n",
            "\n",
            "**Why are APIs Important?**\n",
            "\n",
            "*   **Integration:** APIs allow different applications to work together seamlessly. Think about how a travel website can display flight information, hotel bookings, and maps – that's often done using APIs.\n",
            "*   **Reusability:** Developers can use existing APIs to add functionality to their applications without having to build everything from scratch.\n",
            "*   **Innovation:** APIs foster innovation by allowing developers to combine different services in creative ways.\n",
            "*   **Efficiency:** APIs automate tasks and processes, saving time and effort.\n",
            "*   **Data Sharing:** APIs allow controlled sharing of data between different systems.\n",
            "\n",
            "**Types of APIs:**\n",
            "\n",
            "*   **Web APIs:** These are accessed over the internet using protocols like HTTP (like the examples mentioned above with flights, maps, etc.).\n",
            "*   **Operating System APIs:** These allow applications to interact with the features of an operating system.\n",
            "*   **Library APIs:** These expose the functionality of code libraries for developers to use in their applications.\n",
            "\n",
            "**In Simple Terms:**\n",
            "\n",
            "An API is like a set of instructions that tells different programs how to talk to each other, share information, and work together. It's a fundamental part of how software is built and how the internet functions.\n",
            "\n",
            "Do you have any other questions about APIs? I'm here to help!\n",
            "\n",
            "\n",
            "Question 2: what is Python?\n",
            "Response: Okay, let's break down what Python is:\n",
            "\n",
            "**Python is a high-level, interpreted, general-purpose programming language.** Let's unpack each of those terms:\n",
            "\n",
            "* **High-Level:** This means it's designed to be relatively easy for humans to read and write, compared to low-level languages like assembly code. You don't need to worry about the intricate details of how the computer's processor works. Python uses more English-like syntax.\n",
            "\n",
            "* **Interpreted:** Unlike compiled languages (like C++ or Java), Python code is not directly translated into machine code before execution. Instead, an interpreter reads and executes the code line by line at runtime. This makes Python more flexible and easier to develop with, but sometimes slightly slower than compiled languages.\n",
            "\n",
            "* **General-Purpose:** This means Python is versatile and can be used for a wide variety of tasks. It's not limited to a specific domain like web development or scientific computing.\n",
            "\n",
            "**Here are some key characteristics of Python:**\n",
            "\n",
            "* **Readability:** Python emphasizes code readability with its clean syntax and use of indentation to define code blocks. This makes it easier to learn and maintain.\n",
            "\n",
            "* **Dynamic Typing:** You don't need to explicitly declare the data type of variables (e.g., integer, string). Python figures it out at runtime. This makes coding faster but can sometimes lead to runtime errors if you're not careful.\n",
            "\n",
            "* **Large Standard Library:** Python comes with a vast collection of built-in modules and functions that provide ready-made tools for common tasks like working with files, networking, and data manipulation.\n",
            "\n",
            "* **Extensive Third-Party Libraries:** There's a huge ecosystem of third-party libraries and frameworks (like NumPy, Pandas, Django, Flask, TensorFlow) that extend Python's capabilities into areas like data science, web development, machine learning, and more.\n",
            "\n",
            "* **Object-Oriented:** Python supports object-oriented programming (OOP) principles, allowing you to organize your code into objects that encapsulate data and behavior.\n",
            "\n",
            "**What is Python used for?**\n",
            "\n",
            "Python is used in a vast range of applications, including:\n",
            "\n",
            "* **Web Development:** Building websites and web applications (using frameworks like Django and Flask).\n",
            "* **Data Science and Machine Learning:** Analyzing data, building machine learning models, and performing statistical analysis (using libraries like NumPy, Pandas, Scikit-learn, TensorFlow, and PyTorch).\n",
            "* **Scripting and Automation:** Automating repetitive tasks, creating system utilities, and managing files.\n",
            "* **Scientific Computing:** Conducting research in fields like physics, biology, and engineering.\n",
            "* **Game Development:** Building simple games and prototyping game mechanics.\n",
            "* **Desktop Applications:** Creating graphical user interfaces (GUIs) for desktop programs.\n",
            "* **Education:** Python's easy-to-learn nature makes it popular for teaching programming to beginners.\n",
            "\n",
            "**In summary:**\n",
            "\n",
            "Python is a powerful and versatile programming language that is relatively easy to learn and use. Its readability, large standard library, and extensive third-party libraries make it a popular choice for a wide range of applications. It's a great language for beginners to start with and a powerful tool for experienced developers.\n",
            "\n",
            "\n",
            "Question 3: What is the capital of Paris?\n",
            "Response: The capital of Paris is **Paris**.\n",
            "\n",
            "\n"
          ]
        }
      ]
    },
    {
      "cell_type": "markdown",
      "source": [
        "\n",
        "\n",
        "---\n",
        "\n"
      ],
      "metadata": {
        "id": "JZmbW-XJr_D4"
      }
    },
    {
      "cell_type": "markdown",
      "source": [
        "# **Experiment No : 02**"
      ],
      "metadata": {
        "id": "3fF0jvFTsDtJ"
      }
    },
    {
      "cell_type": "code",
      "source": [
        "llm_02 = GoogleGenerativeAI(\n",
        "    api_key=GOOGLE_API_KEY,\n",
        "    model=\"gemini-2.0-flash-exp\",\n",
        "    temperature=0.1)"
      ],
      "metadata": {
        "id": "C0dKY_iybbpo"
      },
      "execution_count": 79,
      "outputs": []
    },
    {
      "cell_type": "code",
      "source": [
        "prompt_template_02 = PromptTemplate(\n",
        "    input_variables=[\"question\"],\n",
        "    template=\"You are a creative and intelligent assistant.provide detailed insights on:{question}\"\n",
        ")"
      ],
      "metadata": {
        "id": "ImAwSsTAdKPR"
      },
      "execution_count": 80,
      "outputs": []
    },
    {
      "cell_type": "code",
      "source": [
        "Chain_02 = prompt_template | llm_02"
      ],
      "metadata": {
        "id": "JjSDZXOQd6pA"
      },
      "execution_count": 81,
      "outputs": []
    },
    {
      "cell_type": "code",
      "source": [
        "questions = [\n",
        "    \"what is the API?\",\n",
        "    \"what is Python?\",\n",
        "    \"What is the capital of Paris?\"\n",
        "]"
      ],
      "metadata": {
        "id": "Gqdyel3yeMEg"
      },
      "execution_count": 94,
      "outputs": []
    },
    {
      "cell_type": "code",
      "source": [
        "responses_02 = []\n",
        "for question in questions:\n",
        "    response = Chain_02.invoke({\"question\": question})\n",
        "    responses_02.append(response)"
      ],
      "metadata": {
        "id": "ZqLH4KJfeIUJ"
      },
      "execution_count": 95,
      "outputs": []
    },
    {
      "cell_type": "code",
      "source": [
        "for i, response in enumerate(responses_02):\n",
        "    print(f\"Question {i+1}: {questions[i]}\\nResponse: {response}\\n\")"
      ],
      "metadata": {
        "colab": {
          "base_uri": "https://localhost:8080/"
        },
        "id": "PvAQ-G_XeJSk",
        "outputId": "c6df506c-ceb9-4b0f-af42-cf1bfe32dc94"
      },
      "execution_count": 96,
      "outputs": [
        {
          "output_type": "stream",
          "name": "stdout",
          "text": [
            "Question 1: what is the API?\n",
            "Response: Okay, let's break down what an API is.\n",
            "\n",
            "**API stands for Application Programming Interface.**\n",
            "\n",
            "Think of it as a **messenger** or a **contract** that allows different software applications to communicate and exchange information with each other. It defines the rules and methods that one piece of software can use to request services or data from another.\n",
            "\n",
            "Here's a more detailed explanation:\n",
            "\n",
            "**Key Concepts:**\n",
            "\n",
            "* **Application:** This refers to any software program, whether it's a website, a mobile app, a desktop program, or even a piece of hardware.\n",
            "* **Programming:** This refers to the act of writing code to create software.\n",
            "* **Interface:** This is the point of interaction between two systems.\n",
            "\n",
            "**How APIs Work (Analogy):**\n",
            "\n",
            "Imagine you're at a restaurant.\n",
            "\n",
            "* **You (the Application):** You want to order food.\n",
            "* **The Menu (the API):** The menu lists all the available dishes and how to order them (e.g., \"Ask for dish number 5\").\n",
            "* **The Waiter (the API):** The waiter takes your order (your request) and relays it to the kitchen.\n",
            "* **The Kitchen (the other Application):** The kitchen prepares the food based on your order.\n",
            "* **The Waiter (the API):** The waiter brings the food back to you (the response).\n",
            "\n",
            "**In the digital world, this translates to:**\n",
            "\n",
            "1. **Request:** One application sends a request to another application through the API. This request specifies what data or service is needed.\n",
            "2. **Processing:** The receiving application processes the request based on the API's rules.\n",
            "3. **Response:** The receiving application sends a response back to the requesting application, usually containing the requested data or confirmation of the action.\n",
            "\n",
            "**Why are APIs Important?**\n",
            "\n",
            "* **Interoperability:** APIs allow different systems, often built with different technologies, to work together seamlessly.\n",
            "* **Efficiency:** They prevent developers from having to build everything from scratch. They can leverage existing services and data through APIs.\n",
            "* **Innovation:** APIs enable the creation of new and innovative applications by combining different functionalities.\n",
            "* **Modularity:** They promote modular design, making software easier to maintain and update.\n",
            "* **Data Sharing:** APIs facilitate the sharing of data between different platforms and applications.\n",
            "\n",
            "**Examples of APIs in Action:**\n",
            "\n",
            "* **Social Media Login:** When you log into a website using your Google or Facebook account, that's an API in action.\n",
            "* **Weather Apps:** Weather apps use APIs to fetch weather data from weather services.\n",
            "* **Payment Gateways:** Online stores use APIs to process payments securely.\n",
            "* **Mapping Applications:** Map apps use APIs to display maps and provide directions.\n",
            "\n",
            "**Types of APIs:**\n",
            "\n",
            "There are various types of APIs, including:\n",
            "\n",
            "* **Web APIs (REST, SOAP, GraphQL):** These are commonly used for communication over the internet.\n",
            "* **Library APIs:** These provide access to functions and data within a specific programming library.\n",
            "* **Operating System APIs:** These allow applications to interact with the operating system.\n",
            "\n",
            "**In Summary:**\n",
            "\n",
            "An API is a crucial tool that enables different software applications to communicate and share data. It's the foundation for many of the interconnected services and applications we use every day. It's like a universal language that allows different software systems to understand each other and work together.\n",
            "\n",
            "Do you have any other questions about APIs or want to explore a specific aspect further? I'm happy to help!\n",
            "\n",
            "\n",
            "Question 2: what is Python?\n",
            "Response: Okay, let's talk about Python!\n",
            "\n",
            "**Python is a versatile, high-level, and interpreted programming language.** Here's a breakdown of what that means:\n",
            "\n",
            "* **High-Level:** This means that Python is designed to be easy for humans to read and write. It abstracts away many of the low-level details of computer hardware, allowing you to focus on the logic of your program rather than the intricacies of memory management or machine code.\n",
            "\n",
            "* **Interpreted:** Unlike compiled languages (like C++ or Java), Python code is executed line by line by an interpreter. This makes it easier to develop and debug code, as you can see the results of your changes immediately without needing to compile the entire program.\n",
            "\n",
            "* **Versatile:** Python is used in a wide range of applications, including:\n",
            "    * **Web Development:** Building websites and web applications (using frameworks like Django and Flask).\n",
            "    * **Data Science and Machine Learning:** Analyzing data, creating models, and building AI applications (using libraries like NumPy, Pandas, Scikit-learn, and TensorFlow).\n",
            "    * **Scripting and Automation:** Automating tasks, managing files, and creating system utilities.\n",
            "    * **Game Development:** Creating games (using libraries like Pygame).\n",
            "    * **Scientific Computing:** Performing complex calculations and simulations.\n",
            "    * **Education:** Teaching programming concepts to beginners.\n",
            "    * **Desktop Applications:** Creating graphical user interfaces (GUIs).\n",
            "\n",
            "**Key Features of Python:**\n",
            "\n",
            "* **Readability:** Python's syntax is designed to be clear and easy to understand, using indentation to define code blocks instead of curly braces or keywords. This makes it easier to learn and maintain.\n",
            "* **Large Standard Library:** Python comes with a vast collection of built-in modules and functions that provide a wide range of functionalities, reducing the need to write code from scratch.\n",
            "* **Extensive Third-Party Libraries:** The Python ecosystem is rich with third-party libraries and frameworks that extend its capabilities, making it suitable for various tasks.\n",
            "* **Object-Oriented:** Python supports object-oriented programming (OOP) principles, allowing you to organize your code into reusable objects.\n",
            "* **Dynamic Typing:** You don't need to explicitly declare the data type of variables in Python. The interpreter infers the type at runtime.\n",
            "* **Cross-Platform:** Python code can run on various operating systems (Windows, macOS, Linux) without significant modifications.\n",
            "* **Community Support:** Python has a large and active community, which means you can easily find help, tutorials, and resources.\n",
            "\n",
            "**In summary, Python is a powerful and user-friendly programming language that is popular for its readability, versatility, and extensive ecosystem. It's a great choice for both beginners and experienced programmers alike.**\n",
            "\n",
            "Do you have any other questions about Python? I'd be happy to help!\n",
            "\n",
            "\n",
            "Question 3: What is the capital of Paris?\n",
            "Response: Paris is the capital of France.\n",
            "\n",
            "\n"
          ]
        }
      ]
    },
    {
      "cell_type": "code",
      "source": [],
      "metadata": {
        "id": "jD-O8VHBlqOu"
      },
      "execution_count": null,
      "outputs": []
    }
  ]
}