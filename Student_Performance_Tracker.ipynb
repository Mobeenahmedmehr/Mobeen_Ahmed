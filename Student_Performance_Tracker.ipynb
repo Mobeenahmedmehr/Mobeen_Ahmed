{
  "nbformat": 4,
  "nbformat_minor": 0,
  "metadata": {
    "colab": {
      "provenance": [],
      "gpuType": "T4",
      "authorship_tag": "ABX9TyPDXwXe3Yh/j2hzJtn43ErI",
      "include_colab_link": true
    },
    "kernelspec": {
      "name": "python3",
      "display_name": "Python 3"
    },
    "language_info": {
      "name": "python"
    },
    "accelerator": "GPU"
  },
  "cells": [
    {
      "cell_type": "markdown",
      "metadata": {
        "id": "view-in-github",
        "colab_type": "text"
      },
      "source": [
        "<a href=\"https://colab.research.google.com/github/Mobeenahmedmehr/Mobeen_Ahmed/blob/main/Student_Performance_Tracker.ipynb\" target=\"_parent\"><img src=\"https://colab.research.google.com/assets/colab-badge.svg\" alt=\"Open In Colab\"/></a>"
      ]
    },
    {
      "cell_type": "code",
      "execution_count": 3,
      "metadata": {
        "id": "ZbAkJ0i1FPWV"
      },
      "outputs": [],
      "source": [
        "class Student:\n",
        "  def __init__(self,name,scores):\n",
        "    self.name = name\n",
        "    self.scores = scores\n",
        "  def average(self):\n",
        "    return sum(self.scores)/len(self.scores)\n",
        "  def is_passing(self):\n",
        "    for score in self.scores:\n",
        "     if score < 40:\n",
        "       return False\n",
        "    return True"
      ]
    },
    {
      "cell_type": "code",
      "source": [
        "class StudentPerformanceTracker:\n",
        "  def __init__(self):\n",
        "    self.students = []\n",
        "  def add_student(self,name,scores):\n",
        "    student = Student(name,scores)\n",
        "    self.students.append(student)\n",
        "  def display_student_performance(self):\n",
        "    for student in self.students:\n",
        "      Average = student.average()\n",
        "      if student.is_passing():\n",
        "       status = \"Passing\"\n",
        "      else:\n",
        "       status = \"Needs Improvement\"\n",
        "      print(f\"{student.name} - Average: {Average:.2f}, Status: {status}\")\n",
        "  def class_average(self):\n",
        "    if len(self.students) == 0:\n",
        "        return 0\n",
        "    total_avg = 0\n",
        "    for student in self.students:\n",
        "        total_avg += student.average()\n",
        "    return total_avg / len(self.students)\n"
      ],
      "metadata": {
        "id": "xrbHxvw5PXt1"
      },
      "execution_count": 19,
      "outputs": []
    },
    {
      "cell_type": "code",
      "source": [
        "tracker = StudentPerformanceTracker()\n",
        "while True:\n",
        "    name = input(\"Enter student's name (or 'done' to finish): \")\n",
        "    if name.lower() == 'done':\n",
        "        break\n",
        "\n",
        "    try:\n",
        "        scores = [int(input(f\"Enter {subject} score for {name}: \")) for subject in [\"Math\", \"Science\", \"English\"]]\n",
        "        tracker.add_student(name, scores)\n",
        "    except ValueError:\n",
        "        print(\"Invalid input. Please enter numbers only.\")\n",
        "print(\"\\nStudent Performance:\")\n",
        "tracker.display_student_performance()\n"
      ],
      "metadata": {
        "colab": {
          "base_uri": "https://localhost:8080/"
        },
        "id": "xUbb2KlrbzvY",
        "outputId": "a29a04ec-53d0-4a75-aa75-ac7e3fb5315c"
      },
      "execution_count": 20,
      "outputs": [
        {
          "output_type": "stream",
          "name": "stdout",
          "text": [
            "Enter student's name (or 'done' to finish): Mobeen\n",
            "Enter Math score for Mobeen: 99\n",
            "Enter Science score for Mobeen: 80\n",
            "Enter English score for Mobeen: 89\n",
            "Enter student's name (or 'done' to finish): Aqib\n",
            "Enter Math score for Aqib: 30\n",
            "Enter Science score for Aqib: 40\n",
            "Enter English score for Aqib: 80\n",
            "Enter student's name (or 'done' to finish): done\n",
            "\n",
            "Student Performance:\n",
            "Mobeen - Average: 89.33, Status: Passing\n",
            "Aqib - Average: 50.00, Status: Needs Improvement\n"
          ]
        }
      ]
    },
    {
      "cell_type": "code",
      "source": [
        "print(f\"\\nClass Average: {tracker.class_average():.2f}\")"
      ],
      "metadata": {
        "colab": {
          "base_uri": "https://localhost:8080/"
        },
        "id": "RU60gPD7exIn",
        "outputId": "5e16c55f-c0d1-4ee8-cb4f-41b6b15ea20b"
      },
      "execution_count": 21,
      "outputs": [
        {
          "output_type": "stream",
          "name": "stdout",
          "text": [
            "\n",
            "Class Average: 69.67\n"
          ]
        }
      ]
    }
  ]
}