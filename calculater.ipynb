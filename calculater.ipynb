{
  "nbformat": 4,
  "nbformat_minor": 0,
  "metadata": {
    "colab": {
      "provenance": [],
      "authorship_tag": "ABX9TyM8RF3F0ohLGUdTy+POPAph",
      "include_colab_link": true
    },
    "kernelspec": {
      "name": "python3",
      "display_name": "Python 3"
    },
    "language_info": {
      "name": "python"
    }
  },
  "cells": [
    {
      "cell_type": "markdown",
      "metadata": {
        "id": "view-in-github",
        "colab_type": "text"
      },
      "source": [
        "<a href=\"https://colab.research.google.com/github/Mobeenahmedmehr/Mobeen_Ahmed/blob/main/calculater.ipynb\" target=\"_parent\"><img src=\"https://colab.research.google.com/assets/colab-badge.svg\" alt=\"Open In Colab\"/></a>"
      ]
    },
    {
      "cell_type": "markdown",
      "source": [
        "# ***Sum***"
      ],
      "metadata": {
        "id": "mwedfOtQgghl"
      }
    },
    {
      "cell_type": "code",
      "execution_count": 1,
      "metadata": {
        "id": "zyg73qwrXAai"
      },
      "outputs": [],
      "source": [
        "def sum(a:int,b:int):\n",
        "    return a+b"
      ]
    },
    {
      "cell_type": "code",
      "source": [
        "a=int(input(\"enter the first number:\"))\n",
        "b=int(input(\"enter the second number:\"))"
      ],
      "metadata": {
        "colab": {
          "base_uri": "https://localhost:8080/"
        },
        "id": "BIwWo8NWhBv4",
        "outputId": "b6dd116f-aead-45cd-b6ca-482e6b66cb88"
      },
      "execution_count": 2,
      "outputs": [
        {
          "name": "stdout",
          "output_type": "stream",
          "text": [
            "enter the first number:4\n",
            "enter the second number:5\n"
          ]
        }
      ]
    },
    {
      "cell_type": "code",
      "source": [
        "result=sum(a,b)\n",
        "print(f\"sum of {a} and {b} = {result}\")"
      ],
      "metadata": {
        "colab": {
          "base_uri": "https://localhost:8080/"
        },
        "id": "tu5k2yKMhL1x",
        "outputId": "4f2ab856-6190-4482-90de-8c01db3d5919"
      },
      "execution_count": 3,
      "outputs": [
        {
          "output_type": "stream",
          "name": "stdout",
          "text": [
            "sum of 4 and 5 = 9\n"
          ]
        }
      ]
    },
    {
      "cell_type": "markdown",
      "source": [
        "# ***Subtract***"
      ],
      "metadata": {
        "id": "5qjVMHtzhY0M"
      }
    },
    {
      "cell_type": "code",
      "source": [
        "def subtract(num1:int,num2:int):\n",
        "    return num1-num2"
      ],
      "metadata": {
        "id": "8Kk7suS_hjhx"
      },
      "execution_count": 4,
      "outputs": []
    },
    {
      "cell_type": "code",
      "source": [
        "num1=int(input(\"enter the first number:\"))\n",
        "num2=int(input(\"enter the second number:\"))"
      ],
      "metadata": {
        "colab": {
          "base_uri": "https://localhost:8080/"
        },
        "id": "R8rrSp_vhpYg",
        "outputId": "40f71401-5e5a-4399-8fa7-a83c1f801b6e"
      },
      "execution_count": 5,
      "outputs": [
        {
          "name": "stdout",
          "output_type": "stream",
          "text": [
            "enter the first number:5\n",
            "enter the second number:4\n"
          ]
        }
      ]
    },
    {
      "cell_type": "code",
      "source": [
        "result=subtract(num1,num2)\n",
        "print(f\"subtraction of {num1} and {num2} = {result}\")"
      ],
      "metadata": {
        "colab": {
          "base_uri": "https://localhost:8080/"
        },
        "id": "jwdb8Cokhuba",
        "outputId": "0210060d-ac97-4885-bc88-c923e3d3854f"
      },
      "execution_count": 6,
      "outputs": [
        {
          "output_type": "stream",
          "name": "stdout",
          "text": [
            "subtraction of 5 and 4 = 1\n"
          ]
        }
      ]
    },
    {
      "cell_type": "markdown",
      "source": [
        "# ***Multiply***"
      ],
      "metadata": {
        "id": "ODXdm7wjizOx"
      }
    },
    {
      "cell_type": "code",
      "source": [
        "def multiply(a:int,b:int):\n",
        "    return(a*b)"
      ],
      "metadata": {
        "id": "fu1Ogw3bi-ik"
      },
      "execution_count": 10,
      "outputs": []
    },
    {
      "cell_type": "code",
      "source": [
        "a=int(input(\"enter the first number:\"))\n",
        "b=int(input(\"enter the second number:\"))"
      ],
      "metadata": {
        "colab": {
          "base_uri": "https://localhost:8080/"
        },
        "id": "GMtsa4rGlBcH",
        "outputId": "e39fcae5-c423-4160-ef61-ad8d4fbc9b9e"
      },
      "execution_count": 12,
      "outputs": [
        {
          "name": "stdout",
          "output_type": "stream",
          "text": [
            "enter the first number:4\n",
            "enter the second number:5\n"
          ]
        }
      ]
    },
    {
      "cell_type": "code",
      "source": [
        "result=multiply(a,b)\n",
        "print(f\"Multiplion of {a} and {b} = {result}\")"
      ],
      "metadata": {
        "colab": {
          "base_uri": "https://localhost:8080/"
        },
        "id": "RtDn6exXlaIO",
        "outputId": "b0c11ea6-cbde-4df2-e1f5-6f4825493760"
      },
      "execution_count": 15,
      "outputs": [
        {
          "output_type": "stream",
          "name": "stdout",
          "text": [
            "Multiplion of 4 and 5 = 20\n"
          ]
        }
      ]
    },
    {
      "cell_type": "markdown",
      "source": [
        "# ***Division***"
      ],
      "metadata": {
        "id": "FB6zX3V8l-3v"
      }
    },
    {
      "cell_type": "code",
      "source": [
        "def div(a:float,b:float):\n",
        "  return(a/b)"
      ],
      "metadata": {
        "id": "2KiSyIxklxG9"
      },
      "execution_count": 19,
      "outputs": []
    },
    {
      "cell_type": "code",
      "source": [
        "a=int(input(\"enter the first number:\"))\n",
        "b=int(input(\"enter the second number:\"))"
      ],
      "metadata": {
        "colab": {
          "base_uri": "https://localhost:8080/"
        },
        "id": "S3afLSDRmVtq",
        "outputId": "8f0fab09-b720-47bb-c7d5-3a71a68241a7"
      },
      "execution_count": 20,
      "outputs": [
        {
          "name": "stdout",
          "output_type": "stream",
          "text": [
            "enter the first number:10\n",
            "enter the second number:3\n"
          ]
        }
      ]
    },
    {
      "cell_type": "code",
      "source": [
        "result=div(a,b)\n",
        "print(f\"division of {a} and {b} = {result}\")"
      ],
      "metadata": {
        "colab": {
          "base_uri": "https://localhost:8080/"
        },
        "id": "VSgSnGicmbtH",
        "outputId": "018116c2-78b3-45c1-bf43-05dcce3010d3"
      },
      "execution_count": 22,
      "outputs": [
        {
          "output_type": "stream",
          "name": "stdout",
          "text": [
            "division of 10 and 3 = 3.3333333333333335\n"
          ]
        }
      ]
    }
  ]
}