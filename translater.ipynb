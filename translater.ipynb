{
  "nbformat": 4,
  "nbformat_minor": 0,
  "metadata": {
    "colab": {
      "provenance": [],
      "authorship_tag": "ABX9TyM95sMLtTcIpbD56KkvpcRW",
      "include_colab_link": true
    },
    "kernelspec": {
      "name": "python3",
      "display_name": "Python 3"
    },
    "language_info": {
      "name": "python"
    }
  },
  "cells": [
    {
      "cell_type": "markdown",
      "metadata": {
        "id": "view-in-github",
        "colab_type": "text"
      },
      "source": [
        "<a href=\"https://colab.research.google.com/github/Mobeenahmedmehr/Mobeen_Ahmed/blob/main/translater.ipynb\" target=\"_parent\"><img src=\"https://colab.research.google.com/assets/colab-badge.svg\" alt=\"Open In Colab\"/></a>"
      ]
    },
    {
      "cell_type": "code",
      "execution_count": 3,
      "metadata": {
        "id": "BnFtvsAg8z_6"
      },
      "outputs": [],
      "source": [
        "!pip install -qU langchain-google-genai\n"
      ]
    },
    {
      "cell_type": "code",
      "source": [
        "from langchain_google_genai import ChatGoogleGenerativeAI\n",
        "from langchain.tools import tool\n",
        "from langchain.agents import initialize_agent, AgentType"
      ],
      "metadata": {
        "id": "AtefNZO6wsP6"
      },
      "execution_count": 4,
      "outputs": []
    },
    {
      "cell_type": "code",
      "source": [
        "import os\n",
        "from google.colab import userdata\n",
        "Gemini_API_KEY = userdata.get('Gemini_API_KEY')"
      ],
      "metadata": {
        "id": "pX2ry0rrIUSt"
      },
      "execution_count": 5,
      "outputs": []
    },
    {
      "cell_type": "code",
      "source": [
        "llm = ChatGoogleGenerativeAI(\n",
        "    model=\"gemini-1.5-flash\",\n",
        "    api_key= Gemini_API_KEY\n",
        ")"
      ],
      "metadata": {
        "id": "YNO2pCF1IkPG"
      },
      "execution_count": 6,
      "outputs": []
    },
    {
      "cell_type": "code",
      "source": [
        "@tool\n",
        "def summarize_text(text: str) -> str:\n",
        "    \"\"\"\n",
        "    Summarize a given text.\n",
        "    Input: A string of text (e.g., an article or paragraph).\n",
        "    Output: A concise summary of the text.\n",
        "    \"\"\"\n",
        "    prompt = f\"Summarize the following text in a concise manner:\\n\\n{text}\"\n",
        "    return llm.predict(prompt)"
      ],
      "metadata": {
        "id": "OoZU2dSSI3iC"
      },
      "execution_count": 7,
      "outputs": []
    },
    {
      "cell_type": "code",
      "source": [
        "@tool\n",
        "def translate_text(text: str, target_language: str) -> str:\n",
        "    \"\"\"\n",
        "    Translate text into a specified target language.\n",
        "    Input: Text and the target language (e.g., 'French', 'Spanish').\n",
        "    Output: Translated text.\n",
        "    \"\"\"\n",
        "    prompt = f\"Translate the following text into {target_language}:\\n\\n{text}\"\n",
        "    return llm.predict(prompt)"
      ],
      "metadata": {
        "id": "VRn0NDaNI9Oc"
      },
      "execution_count": 8,
      "outputs": []
    },
    {
      "cell_type": "code",
      "source": [
        "tools = [summarize_text, translate_text]"
      ],
      "metadata": {
        "id": "N3rQ3V3NJB8Y"
      },
      "execution_count": 9,
      "outputs": []
    },
    {
      "cell_type": "code",
      "source": [
        "agent = initialize_agent(\n",
        "    tools=tools,\n",
        "    llm=llm,\n",
        "    agent=AgentType.OPENAI_FUNCTIONS,\n",
        "    verbose=True\n",
        ")"
      ],
      "metadata": {
        "id": "Dd1OPNtgJIKr"
      },
      "execution_count": 11,
      "outputs": []
    },
    {
      "cell_type": "code",
      "source": [
        "if __name__ == \"__main__\":\n",
        "    # Summarization Example\n",
        "    text_to_summarize = (\n",
        "        \"Artificial intelligence is the simulation of human intelligence processes by machines, \"\n",
        "        \"especially computer systems. Specific applications of AI include expert systems, natural \"\n",
        "        \"language processing, speech recognition, and machine vision.\"\n",
        "    )\n",
        "    print(\"Testing Summarization:\")\n",
        "    summary = agent.run(f\"Summarize this: {text_to_summarize}\")\n",
        "    print(f\"Summary:\\n{summary}\")"
      ],
      "metadata": {
        "colab": {
          "base_uri": "https://localhost:8080/"
        },
        "id": "wnRHOA5RJMQz",
        "outputId": "f7879e62-0921-4fda-91a7-ac9fa7095211"
      },
      "execution_count": 12,
      "outputs": [
        {
          "output_type": "stream",
          "name": "stdout",
          "text": [
            "Testing Summarization:\n",
            "\n",
            "\n",
            "\u001b[1m> Entering new AgentExecutor chain...\u001b[0m\n"
          ]
        },
        {
          "output_type": "stream",
          "name": "stderr",
          "text": [
            "<ipython-input-12-0de1a19eaa25>:9: LangChainDeprecationWarning: The method `Chain.run` was deprecated in langchain 0.1.0 and will be removed in 1.0. Use :meth:`~invoke` instead.\n",
            "  summary = agent.run(f\"Summarize this: {text_to_summarize}\")\n"
          ]
        },
        {
          "output_type": "stream",
          "name": "stdout",
          "text": [
            "\u001b[32;1m\u001b[1;3m\n",
            "Invoking: `summarize_text` with `{'text': 'Artificial intelligence is the simulation of human intelligence processes by machines, especially computer systems. Specific applications of AI include expert systems, natural language processing, speech recognition, and machine vision.'}`\n",
            "\n",
            "\n",
            "\u001b[0m"
          ]
        },
        {
          "output_type": "stream",
          "name": "stderr",
          "text": [
            "<ipython-input-7-dbd07f700a2d>:9: LangChainDeprecationWarning: The method `BaseChatModel.predict` was deprecated in langchain-core 0.1.7 and will be removed in 1.0. Use :meth:`~invoke` instead.\n",
            "  return llm.predict(prompt)\n"
          ]
        },
        {
          "output_type": "stream",
          "name": "stdout",
          "text": [
            "\u001b[36;1m\u001b[1;3mAI simulates human intelligence in machines, using applications like expert systems and natural language processing.\u001b[0m\u001b[32;1m\u001b[1;3mAI simulates human intelligence in machines, using applications like expert systems and natural language processing.\u001b[0m\n",
            "\n",
            "\u001b[1m> Finished chain.\u001b[0m\n",
            "Summary:\n",
            "AI simulates human intelligence in machines, using applications like expert systems and natural language processing.\n"
          ]
        }
      ]
    },
    {
      "cell_type": "code",
      "source": [
        "text_to_translate = \"What\"\n",
        "target_language = \"Urdu\"\n",
        "print(\"\\nTesting Translation:\")\n",
        "translation = agent.run(f\"Translate this text: {text_to_translate} into {target_language}\")\n",
        "print(f\"Translation:\\n{translation}\")"
      ],
      "metadata": {
        "colab": {
          "base_uri": "https://localhost:8080/"
        },
        "id": "20hdJxHBLkdv",
        "outputId": "d645f432-6b3e-4416-a3e3-b0a5a4cdc42b"
      },
      "execution_count": 17,
      "outputs": [
        {
          "output_type": "stream",
          "name": "stdout",
          "text": [
            "\n",
            "Testing Translation:\n",
            "\n",
            "\n",
            "\u001b[1m> Entering new AgentExecutor chain...\u001b[0m\n",
            "\u001b[32;1m\u001b[1;3m\n",
            "Invoking: `translate_text` with `{'text': 'What', 'target_language': 'Urdu'}`\n",
            "\n",
            "\n",
            "\u001b[0m\u001b[33;1m\u001b[1;3mThe Urdu translation of \"What\" depends on the context. Here are a few options:\n",
            "\n",
            "* **کیا (kyā):** This is the most common translation and is used for general questions.  For example, \"What is your name?\" would be \"آپ کا نام کیا ہے؟\" (Āp kā nām kyā hai?).\n",
            "\n",
            "* **کون سا (kaun sā):** This translates to \"which\" and is used when choosing from a selection. For example, \"What color do you like?\" would be \"آپ کو کون سا رنگ پسند ہے؟\" (Āp ko kaun sā rang pasand hai?).\n",
            "\n",
            "* **کون (kaun):** This translates to \"who\" and is used when asking about a person. For example, \"What is he?\" could be \"وہ کون ہے؟\" (Woh kaun hai?).\n",
            "\n",
            "\n",
            "Therefore, simply \"What?\" in isolation doesn't have a single perfect translation; the best choice depends entirely on the context of the sentence.\u001b[0m\u001b[32;1m\u001b[1;3mThe Urdu translation of \"What\" depends on the context.  The most common translation is کیا (kyā), but other options exist depending on whether you are asking about a person, thing, or making a selection.\u001b[0m\n",
            "\n",
            "\u001b[1m> Finished chain.\u001b[0m\n",
            "Translation:\n",
            "The Urdu translation of \"What\" depends on the context.  The most common translation is کیا (kyā), but other options exist depending on whether you are asking about a person, thing, or making a selection.\n"
          ]
        }
      ]
    }
  ]
}